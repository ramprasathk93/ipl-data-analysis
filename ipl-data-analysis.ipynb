{
 "cells": [
  {
   "cell_type": "markdown",
   "metadata": {},
   "source": [
    "# Analysis on Indian Premier League\n",
    "\n",
    "Indian Premier League is a famous cricket league played in India every year during the period between March and May. It is played in a professional T20 format of the game. This league is played by 8 teams representing 8 different cities across India. This league started in 2008 and it has been a big hit and it is the most attended league in the World. Each team with their profit buys best players from across the World. It is also one of the big reason behind Indian team's success as the league brings out the best talent from a billion population in India. \n",
    "\n",
    "This notebook performs in depth analysis on the matches played during the Indian Premier League using the CRISP-DM structure. The data covers 10 seasons and includes ball-by-ball data. The dataset is from Kaggle ([https://www.kaggle.com/manasgarg/ipl](source)).\n",
    "\n",
    "The notebook further will find the answers for the following question.\n",
    "\n",
    "- What makes the format and league so popular?\n",
    "- As this is high scoring format of the game, who are winning the high scoring games?\n",
    "- Which bowlers can thrive well in powerplays and death overs?\n"
   ]
  },
  {
   "cell_type": "code",
   "execution_count": 1,
   "metadata": {},
   "outputs": [
    {
     "name": "stdout",
     "output_type": "stream",
     "text": [
      "Python 3.7.1\r\n"
     ]
    }
   ],
   "source": [
    "#version of python used in this notebook\n",
    "!python --version "
   ]
  },
  {
   "cell_type": "code",
   "execution_count": 2,
   "metadata": {},
   "outputs": [],
   "source": [
    "#importing required libraries\n",
    "import pandas as pd\n",
    "import seaborn as sns\n",
    "import matplotlib.pyplot as plt\n",
    "import numpy as np"
   ]
  },
  {
   "cell_type": "markdown",
   "metadata": {},
   "source": [
    "## Data Understanding\n",
    "\n",
    "#### Matches data"
   ]
  },
  {
   "cell_type": "code",
   "execution_count": 3,
   "metadata": {},
   "outputs": [],
   "source": [
    "#loading data from the data folder called 'ipl'\n",
    "matchdf = pd.read_csv('ipl/matches.csv')\n",
    "deliverydf = pd.read_csv('ipl/deliveries.csv')"
   ]
  },
  {
   "cell_type": "code",
   "execution_count": 4,
   "metadata": {},
   "outputs": [
    {
     "name": "stdout",
     "output_type": "stream",
     "text": [
      "Index(['id', 'season', 'city', 'date', 'team1', 'team2', 'toss_winner',\n",
      "       'toss_decision', 'result', 'dl_applied', 'winner', 'win_by_runs',\n",
      "       'win_by_wickets', 'player_of_match', 'venue', 'umpire1', 'umpire2',\n",
      "       'umpire3'],\n",
      "      dtype='object')\n",
      "(636, 18)\n"
     ]
    }
   ],
   "source": [
    "#shape and columns in the dataframe\n",
    "print(matchdf.columns)\n",
    "print(matchdf.shape)"
   ]
  },
  {
   "cell_type": "code",
   "execution_count": 5,
   "metadata": {},
   "outputs": [
    {
     "data": {
      "text/html": [
       "<div>\n",
       "<style scoped>\n",
       "    .dataframe tbody tr th:only-of-type {\n",
       "        vertical-align: middle;\n",
       "    }\n",
       "\n",
       "    .dataframe tbody tr th {\n",
       "        vertical-align: top;\n",
       "    }\n",
       "\n",
       "    .dataframe thead th {\n",
       "        text-align: right;\n",
       "    }\n",
       "</style>\n",
       "<table border=\"1\" class=\"dataframe\">\n",
       "  <thead>\n",
       "    <tr style=\"text-align: right;\">\n",
       "      <th></th>\n",
       "      <th>id</th>\n",
       "      <th>season</th>\n",
       "      <th>city</th>\n",
       "      <th>date</th>\n",
       "      <th>team1</th>\n",
       "      <th>team2</th>\n",
       "      <th>toss_winner</th>\n",
       "      <th>toss_decision</th>\n",
       "      <th>result</th>\n",
       "      <th>dl_applied</th>\n",
       "      <th>winner</th>\n",
       "      <th>win_by_runs</th>\n",
       "      <th>win_by_wickets</th>\n",
       "      <th>player_of_match</th>\n",
       "      <th>venue</th>\n",
       "      <th>umpire1</th>\n",
       "      <th>umpire2</th>\n",
       "      <th>umpire3</th>\n",
       "    </tr>\n",
       "  </thead>\n",
       "  <tbody>\n",
       "    <tr>\n",
       "      <th>0</th>\n",
       "      <td>1</td>\n",
       "      <td>2017</td>\n",
       "      <td>Hyderabad</td>\n",
       "      <td>2017-04-05</td>\n",
       "      <td>Sunrisers Hyderabad</td>\n",
       "      <td>Royal Challengers Bangalore</td>\n",
       "      <td>Royal Challengers Bangalore</td>\n",
       "      <td>field</td>\n",
       "      <td>normal</td>\n",
       "      <td>0</td>\n",
       "      <td>Sunrisers Hyderabad</td>\n",
       "      <td>35</td>\n",
       "      <td>0</td>\n",
       "      <td>Yuvraj Singh</td>\n",
       "      <td>Rajiv Gandhi International Stadium, Uppal</td>\n",
       "      <td>AY Dandekar</td>\n",
       "      <td>NJ Llong</td>\n",
       "      <td>NaN</td>\n",
       "    </tr>\n",
       "    <tr>\n",
       "      <th>1</th>\n",
       "      <td>2</td>\n",
       "      <td>2017</td>\n",
       "      <td>Pune</td>\n",
       "      <td>2017-04-06</td>\n",
       "      <td>Mumbai Indians</td>\n",
       "      <td>Rising Pune Supergiant</td>\n",
       "      <td>Rising Pune Supergiant</td>\n",
       "      <td>field</td>\n",
       "      <td>normal</td>\n",
       "      <td>0</td>\n",
       "      <td>Rising Pune Supergiant</td>\n",
       "      <td>0</td>\n",
       "      <td>7</td>\n",
       "      <td>SPD Smith</td>\n",
       "      <td>Maharashtra Cricket Association Stadium</td>\n",
       "      <td>A Nand Kishore</td>\n",
       "      <td>S Ravi</td>\n",
       "      <td>NaN</td>\n",
       "    </tr>\n",
       "    <tr>\n",
       "      <th>2</th>\n",
       "      <td>3</td>\n",
       "      <td>2017</td>\n",
       "      <td>Rajkot</td>\n",
       "      <td>2017-04-07</td>\n",
       "      <td>Gujarat Lions</td>\n",
       "      <td>Kolkata Knight Riders</td>\n",
       "      <td>Kolkata Knight Riders</td>\n",
       "      <td>field</td>\n",
       "      <td>normal</td>\n",
       "      <td>0</td>\n",
       "      <td>Kolkata Knight Riders</td>\n",
       "      <td>0</td>\n",
       "      <td>10</td>\n",
       "      <td>CA Lynn</td>\n",
       "      <td>Saurashtra Cricket Association Stadium</td>\n",
       "      <td>Nitin Menon</td>\n",
       "      <td>CK Nandan</td>\n",
       "      <td>NaN</td>\n",
       "    </tr>\n",
       "    <tr>\n",
       "      <th>3</th>\n",
       "      <td>4</td>\n",
       "      <td>2017</td>\n",
       "      <td>Indore</td>\n",
       "      <td>2017-04-08</td>\n",
       "      <td>Rising Pune Supergiant</td>\n",
       "      <td>Kings XI Punjab</td>\n",
       "      <td>Kings XI Punjab</td>\n",
       "      <td>field</td>\n",
       "      <td>normal</td>\n",
       "      <td>0</td>\n",
       "      <td>Kings XI Punjab</td>\n",
       "      <td>0</td>\n",
       "      <td>6</td>\n",
       "      <td>GJ Maxwell</td>\n",
       "      <td>Holkar Cricket Stadium</td>\n",
       "      <td>AK Chaudhary</td>\n",
       "      <td>C Shamshuddin</td>\n",
       "      <td>NaN</td>\n",
       "    </tr>\n",
       "    <tr>\n",
       "      <th>4</th>\n",
       "      <td>5</td>\n",
       "      <td>2017</td>\n",
       "      <td>Bangalore</td>\n",
       "      <td>2017-04-08</td>\n",
       "      <td>Royal Challengers Bangalore</td>\n",
       "      <td>Delhi Daredevils</td>\n",
       "      <td>Royal Challengers Bangalore</td>\n",
       "      <td>bat</td>\n",
       "      <td>normal</td>\n",
       "      <td>0</td>\n",
       "      <td>Royal Challengers Bangalore</td>\n",
       "      <td>15</td>\n",
       "      <td>0</td>\n",
       "      <td>KM Jadhav</td>\n",
       "      <td>M Chinnaswamy Stadium</td>\n",
       "      <td>NaN</td>\n",
       "      <td>NaN</td>\n",
       "      <td>NaN</td>\n",
       "    </tr>\n",
       "  </tbody>\n",
       "</table>\n",
       "</div>"
      ],
      "text/plain": [
       "   id  season       city        date                        team1  \\\n",
       "0   1    2017  Hyderabad  2017-04-05          Sunrisers Hyderabad   \n",
       "1   2    2017       Pune  2017-04-06               Mumbai Indians   \n",
       "2   3    2017     Rajkot  2017-04-07                Gujarat Lions   \n",
       "3   4    2017     Indore  2017-04-08       Rising Pune Supergiant   \n",
       "4   5    2017  Bangalore  2017-04-08  Royal Challengers Bangalore   \n",
       "\n",
       "                         team2                  toss_winner toss_decision  \\\n",
       "0  Royal Challengers Bangalore  Royal Challengers Bangalore         field   \n",
       "1       Rising Pune Supergiant       Rising Pune Supergiant         field   \n",
       "2        Kolkata Knight Riders        Kolkata Knight Riders         field   \n",
       "3              Kings XI Punjab              Kings XI Punjab         field   \n",
       "4             Delhi Daredevils  Royal Challengers Bangalore           bat   \n",
       "\n",
       "   result  dl_applied                       winner  win_by_runs  \\\n",
       "0  normal           0          Sunrisers Hyderabad           35   \n",
       "1  normal           0       Rising Pune Supergiant            0   \n",
       "2  normal           0        Kolkata Knight Riders            0   \n",
       "3  normal           0              Kings XI Punjab            0   \n",
       "4  normal           0  Royal Challengers Bangalore           15   \n",
       "\n",
       "   win_by_wickets player_of_match                                      venue  \\\n",
       "0               0    Yuvraj Singh  Rajiv Gandhi International Stadium, Uppal   \n",
       "1               7       SPD Smith    Maharashtra Cricket Association Stadium   \n",
       "2              10         CA Lynn     Saurashtra Cricket Association Stadium   \n",
       "3               6      GJ Maxwell                     Holkar Cricket Stadium   \n",
       "4               0       KM Jadhav                      M Chinnaswamy Stadium   \n",
       "\n",
       "          umpire1        umpire2  umpire3  \n",
       "0     AY Dandekar       NJ Llong      NaN  \n",
       "1  A Nand Kishore         S Ravi      NaN  \n",
       "2     Nitin Menon      CK Nandan      NaN  \n",
       "3    AK Chaudhary  C Shamshuddin      NaN  \n",
       "4             NaN            NaN      NaN  "
      ]
     },
     "execution_count": 5,
     "metadata": {},
     "output_type": "execute_result"
    }
   ],
   "source": [
    "matchdf.head(5)"
   ]
  },
  {
   "cell_type": "markdown",
   "metadata": {},
   "source": [
    "The matches CSV file contains high level records of the matches played and the outcome of matches played in each season. Let us further explore the missing values in the dataset."
   ]
  },
  {
   "cell_type": "markdown",
   "metadata": {},
   "source": [
    "#### Deliveries data"
   ]
  },
  {
   "cell_type": "code",
   "execution_count": 6,
   "metadata": {},
   "outputs": [
    {
     "name": "stdout",
     "output_type": "stream",
     "text": [
      "Index(['match_id', 'inning', 'batting_team', 'bowling_team', 'over', 'ball',\n",
      "       'batsman', 'non_striker', 'bowler', 'is_super_over', 'wide_runs',\n",
      "       'bye_runs', 'legbye_runs', 'noball_runs', 'penalty_runs',\n",
      "       'batsman_runs', 'extra_runs', 'total_runs', 'player_dismissed',\n",
      "       'dismissal_kind', 'fielder'],\n",
      "      dtype='object')\n",
      "(150460, 21)\n"
     ]
    }
   ],
   "source": [
    "print(deliverydf.columns)\n",
    "print(deliverydf.shape)"
   ]
  },
  {
   "cell_type": "code",
   "execution_count": 7,
   "metadata": {},
   "outputs": [
    {
     "data": {
      "text/html": [
       "<div>\n",
       "<style scoped>\n",
       "    .dataframe tbody tr th:only-of-type {\n",
       "        vertical-align: middle;\n",
       "    }\n",
       "\n",
       "    .dataframe tbody tr th {\n",
       "        vertical-align: top;\n",
       "    }\n",
       "\n",
       "    .dataframe thead th {\n",
       "        text-align: right;\n",
       "    }\n",
       "</style>\n",
       "<table border=\"1\" class=\"dataframe\">\n",
       "  <thead>\n",
       "    <tr style=\"text-align: right;\">\n",
       "      <th></th>\n",
       "      <th>match_id</th>\n",
       "      <th>inning</th>\n",
       "      <th>batting_team</th>\n",
       "      <th>bowling_team</th>\n",
       "      <th>over</th>\n",
       "      <th>ball</th>\n",
       "      <th>batsman</th>\n",
       "      <th>non_striker</th>\n",
       "      <th>bowler</th>\n",
       "      <th>is_super_over</th>\n",
       "      <th>...</th>\n",
       "      <th>bye_runs</th>\n",
       "      <th>legbye_runs</th>\n",
       "      <th>noball_runs</th>\n",
       "      <th>penalty_runs</th>\n",
       "      <th>batsman_runs</th>\n",
       "      <th>extra_runs</th>\n",
       "      <th>total_runs</th>\n",
       "      <th>player_dismissed</th>\n",
       "      <th>dismissal_kind</th>\n",
       "      <th>fielder</th>\n",
       "    </tr>\n",
       "  </thead>\n",
       "  <tbody>\n",
       "    <tr>\n",
       "      <th>0</th>\n",
       "      <td>1</td>\n",
       "      <td>1</td>\n",
       "      <td>Sunrisers Hyderabad</td>\n",
       "      <td>Royal Challengers Bangalore</td>\n",
       "      <td>1</td>\n",
       "      <td>1</td>\n",
       "      <td>DA Warner</td>\n",
       "      <td>S Dhawan</td>\n",
       "      <td>TS Mills</td>\n",
       "      <td>0</td>\n",
       "      <td>...</td>\n",
       "      <td>0</td>\n",
       "      <td>0</td>\n",
       "      <td>0</td>\n",
       "      <td>0</td>\n",
       "      <td>0</td>\n",
       "      <td>0</td>\n",
       "      <td>0</td>\n",
       "      <td>NaN</td>\n",
       "      <td>NaN</td>\n",
       "      <td>NaN</td>\n",
       "    </tr>\n",
       "    <tr>\n",
       "      <th>1</th>\n",
       "      <td>1</td>\n",
       "      <td>1</td>\n",
       "      <td>Sunrisers Hyderabad</td>\n",
       "      <td>Royal Challengers Bangalore</td>\n",
       "      <td>1</td>\n",
       "      <td>2</td>\n",
       "      <td>DA Warner</td>\n",
       "      <td>S Dhawan</td>\n",
       "      <td>TS Mills</td>\n",
       "      <td>0</td>\n",
       "      <td>...</td>\n",
       "      <td>0</td>\n",
       "      <td>0</td>\n",
       "      <td>0</td>\n",
       "      <td>0</td>\n",
       "      <td>0</td>\n",
       "      <td>0</td>\n",
       "      <td>0</td>\n",
       "      <td>NaN</td>\n",
       "      <td>NaN</td>\n",
       "      <td>NaN</td>\n",
       "    </tr>\n",
       "    <tr>\n",
       "      <th>2</th>\n",
       "      <td>1</td>\n",
       "      <td>1</td>\n",
       "      <td>Sunrisers Hyderabad</td>\n",
       "      <td>Royal Challengers Bangalore</td>\n",
       "      <td>1</td>\n",
       "      <td>3</td>\n",
       "      <td>DA Warner</td>\n",
       "      <td>S Dhawan</td>\n",
       "      <td>TS Mills</td>\n",
       "      <td>0</td>\n",
       "      <td>...</td>\n",
       "      <td>0</td>\n",
       "      <td>0</td>\n",
       "      <td>0</td>\n",
       "      <td>0</td>\n",
       "      <td>4</td>\n",
       "      <td>0</td>\n",
       "      <td>4</td>\n",
       "      <td>NaN</td>\n",
       "      <td>NaN</td>\n",
       "      <td>NaN</td>\n",
       "    </tr>\n",
       "    <tr>\n",
       "      <th>3</th>\n",
       "      <td>1</td>\n",
       "      <td>1</td>\n",
       "      <td>Sunrisers Hyderabad</td>\n",
       "      <td>Royal Challengers Bangalore</td>\n",
       "      <td>1</td>\n",
       "      <td>4</td>\n",
       "      <td>DA Warner</td>\n",
       "      <td>S Dhawan</td>\n",
       "      <td>TS Mills</td>\n",
       "      <td>0</td>\n",
       "      <td>...</td>\n",
       "      <td>0</td>\n",
       "      <td>0</td>\n",
       "      <td>0</td>\n",
       "      <td>0</td>\n",
       "      <td>0</td>\n",
       "      <td>0</td>\n",
       "      <td>0</td>\n",
       "      <td>NaN</td>\n",
       "      <td>NaN</td>\n",
       "      <td>NaN</td>\n",
       "    </tr>\n",
       "    <tr>\n",
       "      <th>4</th>\n",
       "      <td>1</td>\n",
       "      <td>1</td>\n",
       "      <td>Sunrisers Hyderabad</td>\n",
       "      <td>Royal Challengers Bangalore</td>\n",
       "      <td>1</td>\n",
       "      <td>5</td>\n",
       "      <td>DA Warner</td>\n",
       "      <td>S Dhawan</td>\n",
       "      <td>TS Mills</td>\n",
       "      <td>0</td>\n",
       "      <td>...</td>\n",
       "      <td>0</td>\n",
       "      <td>0</td>\n",
       "      <td>0</td>\n",
       "      <td>0</td>\n",
       "      <td>0</td>\n",
       "      <td>2</td>\n",
       "      <td>2</td>\n",
       "      <td>NaN</td>\n",
       "      <td>NaN</td>\n",
       "      <td>NaN</td>\n",
       "    </tr>\n",
       "  </tbody>\n",
       "</table>\n",
       "<p>5 rows × 21 columns</p>\n",
       "</div>"
      ],
      "text/plain": [
       "   match_id  inning         batting_team                 bowling_team  over  \\\n",
       "0         1       1  Sunrisers Hyderabad  Royal Challengers Bangalore     1   \n",
       "1         1       1  Sunrisers Hyderabad  Royal Challengers Bangalore     1   \n",
       "2         1       1  Sunrisers Hyderabad  Royal Challengers Bangalore     1   \n",
       "3         1       1  Sunrisers Hyderabad  Royal Challengers Bangalore     1   \n",
       "4         1       1  Sunrisers Hyderabad  Royal Challengers Bangalore     1   \n",
       "\n",
       "   ball    batsman non_striker    bowler  is_super_over   ...    bye_runs  \\\n",
       "0     1  DA Warner    S Dhawan  TS Mills              0   ...           0   \n",
       "1     2  DA Warner    S Dhawan  TS Mills              0   ...           0   \n",
       "2     3  DA Warner    S Dhawan  TS Mills              0   ...           0   \n",
       "3     4  DA Warner    S Dhawan  TS Mills              0   ...           0   \n",
       "4     5  DA Warner    S Dhawan  TS Mills              0   ...           0   \n",
       "\n",
       "   legbye_runs  noball_runs  penalty_runs  batsman_runs  extra_runs  \\\n",
       "0            0            0             0             0           0   \n",
       "1            0            0             0             0           0   \n",
       "2            0            0             0             4           0   \n",
       "3            0            0             0             0           0   \n",
       "4            0            0             0             0           2   \n",
       "\n",
       "   total_runs  player_dismissed dismissal_kind fielder  \n",
       "0           0               NaN            NaN     NaN  \n",
       "1           0               NaN            NaN     NaN  \n",
       "2           4               NaN            NaN     NaN  \n",
       "3           0               NaN            NaN     NaN  \n",
       "4           2               NaN            NaN     NaN  \n",
       "\n",
       "[5 rows x 21 columns]"
      ]
     },
     "execution_count": 7,
     "metadata": {},
     "output_type": "execute_result"
    }
   ],
   "source": [
    "deliverydf.head(5)"
   ]
  },
  {
   "cell_type": "markdown",
   "metadata": {},
   "source": [
    "This data consists a very low data of each ball bowled during the game and who bowled and played the ball and what happened during each ball. Let us look at the missing values in this dataframe."
   ]
  },
  {
   "cell_type": "markdown",
   "metadata": {},
   "source": [
    "## Data Preparation"
   ]
  },
  {
   "cell_type": "code",
   "execution_count": 8,
   "metadata": {},
   "outputs": [
    {
     "data": {
      "text/plain": [
       "id                 False\n",
       "season             False\n",
       "city                True\n",
       "date               False\n",
       "team1              False\n",
       "team2              False\n",
       "toss_winner        False\n",
       "toss_decision      False\n",
       "result             False\n",
       "dl_applied         False\n",
       "winner              True\n",
       "win_by_runs        False\n",
       "win_by_wickets     False\n",
       "player_of_match     True\n",
       "venue              False\n",
       "umpire1             True\n",
       "umpire2             True\n",
       "umpire3             True\n",
       "dtype: bool"
      ]
     },
     "execution_count": 8,
     "metadata": {},
     "output_type": "execute_result"
    }
   ],
   "source": [
    "matchdf.isnull().any()"
   ]
  },
  {
   "cell_type": "code",
   "execution_count": 9,
   "metadata": {},
   "outputs": [
    {
     "data": {
      "text/plain": [
       "id                   0\n",
       "season               0\n",
       "city                 7\n",
       "date                 0\n",
       "team1                0\n",
       "team2                0\n",
       "toss_winner          0\n",
       "toss_decision        0\n",
       "result               0\n",
       "dl_applied           0\n",
       "winner               3\n",
       "win_by_runs          0\n",
       "win_by_wickets       0\n",
       "player_of_match      3\n",
       "venue                0\n",
       "umpire1              1\n",
       "umpire2              1\n",
       "umpire3            636\n",
       "dtype: int64"
      ]
     },
     "execution_count": 9,
     "metadata": {},
     "output_type": "execute_result"
    }
   ],
   "source": [
    "#sum of missing values in each column\n",
    "matchdf.isnull().sum()"
   ]
  },
  {
   "cell_type": "markdown",
   "metadata": {},
   "source": [
    "The values missing in the dataset is very less and it will not affect our analysis. The column 'umpire3' has 636 rows missing. As it will not be a part of my analysis, I am not doing anything with the missing values."
   ]
  },
  {
   "cell_type": "code",
   "execution_count": 10,
   "metadata": {},
   "outputs": [
    {
     "data": {
      "text/plain": [
       "match_id            False\n",
       "inning              False\n",
       "batting_team        False\n",
       "bowling_team        False\n",
       "over                False\n",
       "ball                False\n",
       "batsman             False\n",
       "non_striker         False\n",
       "bowler              False\n",
       "is_super_over       False\n",
       "wide_runs           False\n",
       "bye_runs            False\n",
       "legbye_runs         False\n",
       "noball_runs         False\n",
       "penalty_runs        False\n",
       "batsman_runs        False\n",
       "extra_runs          False\n",
       "total_runs          False\n",
       "player_dismissed     True\n",
       "dismissal_kind       True\n",
       "fielder              True\n",
       "dtype: bool"
      ]
     },
     "execution_count": 10,
     "metadata": {},
     "output_type": "execute_result"
    }
   ],
   "source": [
    "deliverydf.isnull().any()"
   ]
  },
  {
   "cell_type": "code",
   "execution_count": 11,
   "metadata": {},
   "outputs": [
    {
     "data": {
      "text/plain": [
       "match_id                 0\n",
       "inning                   0\n",
       "batting_team             0\n",
       "bowling_team             0\n",
       "over                     0\n",
       "ball                     0\n",
       "batsman                  0\n",
       "non_striker              0\n",
       "bowler                   0\n",
       "is_super_over            0\n",
       "wide_runs                0\n",
       "bye_runs                 0\n",
       "legbye_runs              0\n",
       "noball_runs              0\n",
       "penalty_runs             0\n",
       "batsman_runs             0\n",
       "extra_runs               0\n",
       "total_runs               0\n",
       "player_dismissed    143022\n",
       "dismissal_kind      143022\n",
       "fielder             145091\n",
       "dtype: int64"
      ]
     },
     "execution_count": 11,
     "metadata": {},
     "output_type": "execute_result"
    }
   ],
   "source": [
    "#sum of missing values in each column\n",
    "deliverydf.isnull().sum()"
   ]
  },
  {
   "cell_type": "markdown",
   "metadata": {},
   "source": [
    "The last three columns does not contain any data and hence, we can drop those columns."
   ]
  },
  {
   "cell_type": "code",
   "execution_count": 12,
   "metadata": {},
   "outputs": [],
   "source": [
    "#dropping three empty columns\n",
    "deliverydf.drop(['player_dismissed', 'dismissal_kind', 'fielder'],axis=1, inplace=True)"
   ]
  },
  {
   "cell_type": "markdown",
   "metadata": {},
   "source": [
    "By assessing the data, the data does not have much cleaning issues. The deliveries data is very granular and I can sense there will be lot of rolling up and aggregration carried out to get insights out of this dataset.\n",
    "\n",
    "\n",
    "As the analysis we are going to carry out is mostly upon deliveries, it is good to merge the required columns like season from matches dataframe to deliveries dataframe. This will make aggregation steps easier. Also, we will rename the team names with abbreviations for more readability on "
   ]
  },
  {
   "cell_type": "code",
   "execution_count": 13,
   "metadata": {},
   "outputs": [],
   "source": [
    "#merge season value from the matches dataframe to deliveries\n",
    "runs = matchdf[['id','season']].merge(deliverydf, left_on = 'id', right_on = 'match_id', how = 'left').drop('id', axis = 1)"
   ]
  },
  {
   "cell_type": "code",
   "execution_count": 14,
   "metadata": {},
   "outputs": [],
   "source": [
    "#replace team names with abbreviations for more readability in plots and tables\n",
    "runs.replace(['Delhi Daredevils','Gujarat Lions','Kings XI Punjab',\n",
    "                 'Sunrisers Hyderabad','Rising Pune Supergiants','Mumbai Indians','Kolkata Knight Riders','Royal Challengers Bangalore','Deccan Chargers','Chennai Super Kings',\n",
    "                 'Rajasthan Royals','Kochi Tuskers Kerala','Pune Warriors','Rising Pune Supergiant']\n",
    "                ,['DD','GL','KXIP','SRH','RPS','MI','KKR','RCB','DC','CSK','RR','KTK','PW','RPS'],inplace=True)"
   ]
  },
  {
   "cell_type": "markdown",
   "metadata": {},
   "source": [
    "## Data Modeling/Analysis\n",
    "\n",
    "### What makes the format and league so popular?"
   ]
  },
  {
   "cell_type": "code",
   "execution_count": 15,
   "metadata": {},
   "outputs": [],
   "source": [
    "def barplot(x_axis, y_axis, plot_data, title, x_label, y_label):\n",
    "    \"\"\"Bar plot using seaborn library\"\"\"\n",
    "    plot = sns.barplot(x=x_axis, y=y_axis, data=plot_data)\n",
    "    plot.set(xlabel=x_label, ylabel=y_label)\n",
    "    plot.set_title(title)\n",
    "    plt.show()"
   ]
  },
  {
   "cell_type": "code",
   "execution_count": 16,
   "metadata": {},
   "outputs": [
    {
     "data": {
      "image/png": "[encoded data removed]",
      "text/plain": [
       "<Figure size 432x288 with 1 Axes>"
      ]
     },
     "metadata": {
      "needs_background": "light"
     },
     "output_type": "display_data"
    }
   ],
   "source": [
    "#get the average score by a batting team in each season\n",
    "innings_score = runs.groupby(['match_id', 'season', 'batting_team'])['total_runs'].sum().reset_index()\n",
    "season_avg_score = innings_score.groupby(['season'])['total_runs'].mean().reset_index()\n",
    "#bar plot\n",
    "barplot('season', 'total_runs', season_avg_score, 'Average score by a batting team each season',\n",
    "        'Season', 'Total runs')"
   ]
  },
  {
   "cell_type": "code",
   "execution_count": 17,
   "metadata": {},
   "outputs": [
    {
     "data": {
      "image/png": "[encoded data removed]",
      "text/plain": [
       "<Figure size 432x288 with 1 Axes>"
      ]
     },
     "metadata": {
      "needs_background": "light"
     },
     "output_type": "display_data"
    }
   ],
   "source": [
    "#number of 4s and 6s scored boundaries scored in each season\n",
    "boundaries_per_season = runs[(runs['batsman_runs']==4) | (runs['batsman_runs']==6)].groupby(['season'])['batsman_runs'].count().reset_index()\n",
    "#barplot\n",
    "barplot('season', 'batsman_runs', boundaries_per_season, 'Number of boundaries scored in each season',\n",
    "        'Season', 'Number of Boundaries')"
   ]
  },
  {
   "cell_type": "code",
   "execution_count": 18,
   "metadata": {},
   "outputs": [
    {
     "data": {
      "image/png": "[encoded data removed]",
      "text/plain": [
       "<Figure size 432x288 with 1 Axes>"
      ]
     },
     "metadata": {},
     "output_type": "display_data"
    }
   ],
   "source": [
    "#obtain toss winners in the match\n",
    "winner = matchdf[matchdf['toss_winner']==matchdf['winner']]\n",
    "labels=['Yes','No']\n",
    "#pie plot\n",
    "plt.pie([len(winner),(577-len(winner))],labels=labels,autopct='%1.1f%%', shadow=True, startangle=90)\n",
    "plot = plt.gcf()\n",
    "plt.title(\"Toss winners' precentage of success\")\n",
    "plt.show()"
   ]
  },
  {
   "cell_type": "markdown",
   "metadata": {},
   "source": [
    "From the above 3 plots, we can conclude three reasons behind the popularity behind the league and format.\n",
    "1. High average score in each inning every season\n",
    "\n",
    "Usually in a 50 over or a test match, the run rate will not be as high as this format. Here, average innings score will be more than 140 in 120 balls played.\n",
    "\n",
    "2. Very high number of boundaries scored\n",
    "\n",
    "In each season, more than 2000 boundaries (4s and 6s) are scored which is another reason for high score games and this makes the match interesting to watch. Less number of boundaries in the year 2009 can be attributed to the location of the league played at. In 2009, IPL was hosted by South Africa and it was not a big hit as the pitches in South Africa were not suitable for scoring many runs/boundaries.\n",
    "\n",
    "3. Unpredictability of a match\n",
    "\n",
    "In a cricket game, toss is a major factor as the team winning the toss have high chances of winning. But from the plot, we can conclude that the match can go either way where toss winners have very slight edge.\n",
    "\n",
    "All the above reasons can make a match very interesting and can attract lot of cricket fans."
   ]
  },
  {
   "cell_type": "markdown",
   "metadata": {},
   "source": [
    "### As this is high scoring format of the game, who are winning the high scoring games?"
   ]
  },
  {
   "cell_type": "code",
   "execution_count": 19,
   "metadata": {},
   "outputs": [
    {
     "data": {
      "image/png": "[encoded data removed]",
      "text/plain": [
       "<Figure size 432x288 with 1 Axes>"
      ]
     },
     "metadata": {
      "needs_background": "light"
     },
     "output_type": "display_data"
    }
   ],
   "source": [
    "#get sum of scores by batting and bowling teams\n",
    "high_scores = runs.groupby(['match_id','season','inning','batting_team','bowling_team'])['total_runs'].sum().reset_index() \n",
    "#slice by runs greater than 200\n",
    "high_scores = high_scores[high_scores['total_runs']>=200]\n",
    "\n",
    "#bar plot\n",
    "barplot('season', 'match_id', high_scores.groupby(['season'])['match_id'].count().reset_index(), \n",
    "        'Number of 200+ scoring matches in each season', 'Season', 'Number of matches')"
   ]
  },
  {
   "cell_type": "markdown",
   "metadata": {},
   "source": [
    "From the above plot, the first season had more than 10 200+ scores which contributes to the league's immediate success. The second season has the lowest as it was hosted in South Africa. The Board of Cricket Council India(BCCI) did not make much profit that year (Source: [https://economictimes.indiatimes.com/ipl-t20-2009-had-plunged-bccis-profits-to-rs-21-2-crore/articleshow/9950220.cms]). So, high scores in matches does contribute to success of the league."
   ]
  },
  {
   "cell_type": "code",
   "execution_count": 20,
   "metadata": {},
   "outputs": [
    {
     "data": {
      "image/png": "[encoded data removed]",
      "text/plain": [
       "<Figure size 1296x432 with 2 Axes>"
      ]
     },
     "metadata": {
      "needs_background": "light"
     },
     "output_type": "display_data"
    }
   ],
   "source": [
    "#count plots comparing scoring and conceding teams\n",
    "plot, ax =plt.subplots(1,2)\n",
    "sns.countplot(high_scores['batting_team'],ax=ax[0])\n",
    "sns.countplot(high_scores['bowling_team'],ax=ax[1])\n",
    "plot=plt.gcf()\n",
    "plot.set_size_inches(18,6)\n",
    "plt.show()"
   ]
  },
  {
   "cell_type": "markdown",
   "metadata": {},
   "source": [
    "The above plots shows the number of times a team have scored and conceded 200+ runs. Interestingly, some teams have only conceded 200+ runs but not scored them like RPS(Rising Pune Supergiants) and PW(Pune Warriors). Both are actually the same team as the latter team was renamed as RPS.\n",
    "\n",
    "This also makes us think about the order of innings played. I wonder whether the teams batting second can actually acquire the target if it is 200+.\n",
    "\n",
    "Let us explore the success rate chasing 200+ as well."
   ]
  },
  {
   "cell_type": "code",
   "execution_count": 21,
   "metadata": {},
   "outputs": [],
   "source": [
    "high_scores = deliverydf.groupby(['match_id', 'inning','batting_team','bowling_team'])['total_runs'].sum().reset_index()\n",
    "#high score in 1st innings\n",
    "firstinning_scores = high_scores[high_scores['inning']==1]\n",
    "#high score in 2nd innings\n",
    "secondinning_scores = high_scores[high_scores['inning']==2]\n",
    "#merge to get complete mach scores\n",
    "fullmatch_scores = firstinning_scores.merge(secondinning_scores[['match_id', 'inning', 'total_runs']], on='match_id')"
   ]
  },
  {
   "cell_type": "code",
   "execution_count": 22,
   "metadata": {},
   "outputs": [],
   "source": [
    "#rename columns based on 1st and 2nd innings\n",
    "fullmatch_scores.rename(columns={'inning_y':'inning_2','total_runs_x':'inning1_runs','inning_x':'inning_1','total_runs_y':'inning2_runs'},inplace=True)\n",
    "fullmatch_scores = fullmatch_scores[fullmatch_scores['inning1_runs']>=200]\n",
    "\n",
    "#engineer new column to get if the score was chased successfully or not\n",
    "fullmatch_scores['chase_success'] = 1\n",
    "fullmatch_scores['chase_success'] = np.where(fullmatch_scores['inning1_runs']<=fullmatch_scores['inning2_runs'], 'yes', 'no')"
   ]
  },
  {
   "cell_type": "code",
   "execution_count": 32,
   "metadata": {},
   "outputs": [
    {
     "data": {
      "image/png": "[encoded data removed]",
      "text/plain": [
       "<Figure size 432x432 with 1 Axes>"
      ]
     },
     "metadata": {},
     "output_type": "display_data"
    }
   ],
   "source": [
    "#pie plot success rate of teams batting second\n",
    "counts = fullmatch_scores['chase_success'].value_counts().reset_index().chase_success\n",
    "labels = ['Loss','Win']\n",
    "plt.pie(counts,labels=labels,autopct='%1.1f%%', shadow=True, startangle=90)\n",
    "plot = plt.gcf()\n",
    "plot.set_size_inches(6,6)\n",
    "plt.title(\"Win % when chasing 200+ runs\")\n",
    "plt.show()"
   ]
  },
  {
   "cell_type": "markdown",
   "metadata": {},
   "source": [
    "Voila! When a team is chasing 200+ runs, it is mostly one-sided match. There is only 14.3% chances of winning when a team chases 200+ score. "
   ]
  },
  {
   "cell_type": "markdown",
   "metadata": {},
   "source": [
    "### Which bowlers can thrive well in powerplays and death overs?\n",
    "\n",
    "We have explored too much about scoring runs and high targets. We can safely say this league/format gives more importance for batting, unlike Tests and ODIs. But, one cannot forget the bowlers as they are the ones taking wickets and conceding. \n",
    "\n",
    "In T20 format, as you have 10 wickets for 20 overs, it gives batsman more freedom to take risks and hit boundaries. Batsman tend to hit more during [powerplays](https://en.wikipedia.org/wiki/Powerplay_(cricket)#Twenty20) and death overs. So, teams will try to concede during first 6 overs and last 4 overs. \n",
    "\n",
    "We will see as to who can concede very less runs in these overs and these players have a good rate when it comes to auctions."
   ]
  },
  {
   "cell_type": "code",
   "execution_count": 24,
   "metadata": {},
   "outputs": [],
   "source": [
    "#slice data for first 6 overs\n",
    "powerplay_deliveries = runs[runs['over'] <=6].reset_index()"
   ]
  },
  {
   "cell_type": "markdown",
   "metadata": {},
   "source": [
    "We will need to introduce a new column called 'Economy rate'. \n",
    "\n",
    "This is calculated using the formula: **Total runs conceded/Total overs bowled**\n",
    "\n",
    "We can do an analysis on how many total powerplay and death overs they have bowled and their conceding rate. Less economy rate means the bowler is containing the batsman from hitting more runs."
   ]
  },
  {
   "cell_type": "code",
   "execution_count": 25,
   "metadata": {},
   "outputs": [
    {
     "data": {
      "text/html": [
       "<div>\n",
       "<style scoped>\n",
       "    .dataframe tbody tr th:only-of-type {\n",
       "        vertical-align: middle;\n",
       "    }\n",
       "\n",
       "    .dataframe tbody tr th {\n",
       "        vertical-align: top;\n",
       "    }\n",
       "\n",
       "    .dataframe thead th {\n",
       "        text-align: right;\n",
       "    }\n",
       "</style>\n",
       "<table border=\"1\" class=\"dataframe\">\n",
       "  <thead>\n",
       "    <tr style=\"text-align: right;\">\n",
       "      <th></th>\n",
       "      <th>bowler</th>\n",
       "      <th>season</th>\n",
       "      <th>total_overs</th>\n",
       "      <th>total_runs</th>\n",
       "      <th>economy_rate</th>\n",
       "    </tr>\n",
       "  </thead>\n",
       "  <tbody>\n",
       "    <tr>\n",
       "      <th>0</th>\n",
       "      <td>A Ashish Reddy</td>\n",
       "      <td>2012</td>\n",
       "      <td>1</td>\n",
       "      <td>20</td>\n",
       "      <td>20.00</td>\n",
       "    </tr>\n",
       "    <tr>\n",
       "      <th>1</th>\n",
       "      <td>A Chandila</td>\n",
       "      <td>2012</td>\n",
       "      <td>7</td>\n",
       "      <td>41</td>\n",
       "      <td>5.86</td>\n",
       "    </tr>\n",
       "    <tr>\n",
       "      <th>2</th>\n",
       "      <td>A Chandila</td>\n",
       "      <td>2013</td>\n",
       "      <td>17</td>\n",
       "      <td>98</td>\n",
       "      <td>5.76</td>\n",
       "    </tr>\n",
       "    <tr>\n",
       "      <th>3</th>\n",
       "      <td>A Choudhary</td>\n",
       "      <td>2017</td>\n",
       "      <td>6</td>\n",
       "      <td>46</td>\n",
       "      <td>7.67</td>\n",
       "    </tr>\n",
       "    <tr>\n",
       "      <th>4</th>\n",
       "      <td>A Flintoff</td>\n",
       "      <td>2009</td>\n",
       "      <td>2</td>\n",
       "      <td>21</td>\n",
       "      <td>10.50</td>\n",
       "    </tr>\n",
       "  </tbody>\n",
       "</table>\n",
       "</div>"
      ],
      "text/plain": [
       "           bowler  season  total_overs  total_runs economy_rate\n",
       "0  A Ashish Reddy    2012            1          20        20.00\n",
       "1      A Chandila    2012            7          41         5.86\n",
       "2      A Chandila    2013           17          98         5.76\n",
       "3     A Choudhary    2017            6          46         7.67\n",
       "4      A Flintoff    2009            2          21        10.50"
      ]
     },
     "execution_count": 25,
     "metadata": {},
     "output_type": "execute_result"
    }
   ],
   "source": [
    "bowlers = powerplay_deliveries.groupby([\"bowler\", \"over\", \"match_id\", \"season\"]).sum().reset_index()\n",
    "#engineer new column showing total number of overs bowled \n",
    "bowlers[\"total_overs\"] = 1\n",
    "bowlers = bowlers[[\"bowler\", \"total_overs\", \"total_runs\", \"season\"]]\n",
    "bowlers = bowlers.groupby([\"bowler\",\"season\"]).sum().reset_index()\n",
    "#engineer new column showing the economy rate of the bowler\n",
    "bowlers[\"economy_rate\"] = bowlers.apply(lambda row: \"{:.2f}\".format(row[\"total_runs\"] / row[\"total_overs\"]), axis=1)\n",
    "bowlers.head()"
   ]
  },
  {
   "cell_type": "code",
   "execution_count": 26,
   "metadata": {},
   "outputs": [
    {
     "data": {
      "text/html": [
       "<div>\n",
       "<style scoped>\n",
       "    .dataframe tbody tr th:only-of-type {\n",
       "        vertical-align: middle;\n",
       "    }\n",
       "\n",
       "    .dataframe tbody tr th {\n",
       "        vertical-align: top;\n",
       "    }\n",
       "\n",
       "    .dataframe thead th {\n",
       "        text-align: right;\n",
       "    }\n",
       "</style>\n",
       "<table border=\"1\" class=\"dataframe\">\n",
       "  <thead>\n",
       "    <tr style=\"text-align: right;\">\n",
       "      <th></th>\n",
       "      <th>bowler</th>\n",
       "      <th>season</th>\n",
       "      <th>total_overs</th>\n",
       "      <th>total_runs</th>\n",
       "      <th>economy_rate</th>\n",
       "    </tr>\n",
       "  </thead>\n",
       "  <tbody>\n",
       "    <tr>\n",
       "      <th>539</th>\n",
       "      <td>P Kumar</td>\n",
       "      <td>2013</td>\n",
       "      <td>37</td>\n",
       "      <td>214</td>\n",
       "      <td>5.78</td>\n",
       "    </tr>\n",
       "    <tr>\n",
       "      <th>251</th>\n",
       "      <td>GD McGrath</td>\n",
       "      <td>2008</td>\n",
       "      <td>37</td>\n",
       "      <td>218</td>\n",
       "      <td>5.89</td>\n",
       "    </tr>\n",
       "    <tr>\n",
       "      <th>127</th>\n",
       "      <td>B Kumar</td>\n",
       "      <td>2016</td>\n",
       "      <td>36</td>\n",
       "      <td>218</td>\n",
       "      <td>6.06</td>\n",
       "    </tr>\n",
       "    <tr>\n",
       "      <th>471</th>\n",
       "      <td>MG Johnson</td>\n",
       "      <td>2013</td>\n",
       "      <td>39</td>\n",
       "      <td>243</td>\n",
       "      <td>6.23</td>\n",
       "    </tr>\n",
       "    <tr>\n",
       "      <th>488</th>\n",
       "      <td>MM Sharma</td>\n",
       "      <td>2013</td>\n",
       "      <td>36</td>\n",
       "      <td>230</td>\n",
       "      <td>6.39</td>\n",
       "    </tr>\n",
       "    <tr>\n",
       "      <th>538</th>\n",
       "      <td>P Kumar</td>\n",
       "      <td>2012</td>\n",
       "      <td>43</td>\n",
       "      <td>278</td>\n",
       "      <td>6.47</td>\n",
       "    </tr>\n",
       "    <tr>\n",
       "      <th>542</th>\n",
       "      <td>P Kumar</td>\n",
       "      <td>2016</td>\n",
       "      <td>38</td>\n",
       "      <td>253</td>\n",
       "      <td>6.66</td>\n",
       "    </tr>\n",
       "    <tr>\n",
       "      <th>24</th>\n",
       "      <td>A Nehra</td>\n",
       "      <td>2015</td>\n",
       "      <td>42</td>\n",
       "      <td>297</td>\n",
       "      <td>7.07</td>\n",
       "    </tr>\n",
       "    <tr>\n",
       "      <th>286</th>\n",
       "      <td>I Sharma</td>\n",
       "      <td>2013</td>\n",
       "      <td>38</td>\n",
       "      <td>278</td>\n",
       "      <td>7.32</td>\n",
       "    </tr>\n",
       "    <tr>\n",
       "      <th>501</th>\n",
       "      <td>MS Gony</td>\n",
       "      <td>2008</td>\n",
       "      <td>45</td>\n",
       "      <td>342</td>\n",
       "      <td>7.60</td>\n",
       "    </tr>\n",
       "  </tbody>\n",
       "</table>\n",
       "</div>"
      ],
      "text/plain": [
       "         bowler  season  total_overs  total_runs economy_rate\n",
       "539     P Kumar    2013           37         214         5.78\n",
       "251  GD McGrath    2008           37         218         5.89\n",
       "127     B Kumar    2016           36         218         6.06\n",
       "471  MG Johnson    2013           39         243         6.23\n",
       "488   MM Sharma    2013           36         230         6.39\n",
       "538     P Kumar    2012           43         278         6.47\n",
       "542     P Kumar    2016           38         253         6.66\n",
       "24      A Nehra    2015           42         297         7.07\n",
       "286    I Sharma    2013           38         278         7.32\n",
       "501     MS Gony    2008           45         342         7.60"
      ]
     },
     "execution_count": 26,
     "metadata": {},
     "output_type": "execute_result"
    }
   ],
   "source": [
    "# all time best economic bowlers during powerplay\n",
    "bowlers.nlargest(10, 'total_overs').sort_values(by=[\"economy_rate\"], ascending=[True])"
   ]
  },
  {
   "cell_type": "markdown",
   "metadata": {},
   "source": [
    "All time economic bowler is Bhuvaneshwar Kumar. This inference is good but it across all seasons. It is good for the records board but we need see across all seasons. Not all bowlers play every season. \n",
    "\n",
    "So, we can see the top 5 bowling performances across all seasons."
   ]
  },
  {
   "cell_type": "code",
   "execution_count": 27,
   "metadata": {},
   "outputs": [
    {
     "name": "stdout",
     "output_type": "stream",
     "text": [
      "          bowler  season  total_overs  total_runs economy_rate\n",
      "251   GD McGrath    2008           37         218         5.89\n",
      "742   SM Pollock    2008           34         213         6.26\n",
      "752    SR Watson    2008           32         221         6.91\n",
      "501      MS Gony    2008           45         342         7.60\n",
      "694  S Sreesanth    2008           36         293         8.14\n",
      "        bowler  season  total_overs  total_runs economy_rate\n",
      "652   RP Singh    2009           35         233         6.66\n",
      "19     A Nehra    2009           28         190         6.79\n",
      "350  JH Kallis    2009           29         205         7.07\n",
      "295  IK Pathan    2009           27         199         7.37\n",
      "326  JA Morkel    2009           28         219         7.82\n",
      "       bowler  season  total_overs  total_runs economy_rate\n",
      "595  R Ashwin    2010           22         115         5.23\n",
      "536   P Kumar    2010           28         210         7.50\n",
      "240  DW Steyn    2010           27         204         7.56\n",
      "867    Z Khan    2010           24         190         7.92\n",
      "653  RP Singh    2010           20         172         8.60\n",
      "        bowler  season  total_overs  total_runs economy_rate\n",
      "285   I Sharma    2011           29         173         5.97\n",
      "537    P Kumar    2011           35         236         6.74\n",
      "654   RP Singh    2011           33         225         6.82\n",
      "868     Z Khan    2011           33         227         6.88\n",
      "328  JA Morkel    2011           29         245         8.45\n",
      "            bowler  season  total_overs  total_runs economy_rate\n",
      "538        P Kumar    2012           43         278         6.47\n",
      "442       M Morkel    2012           33         218         6.61\n",
      "869         Z Khan    2012           35         242         6.91\n",
      "623  R Vinay Kumar    2012           27         188         6.96\n",
      "329      JA Morkel    2012           28         237         8.46\n",
      "         bowler  season  total_overs  total_runs economy_rate\n",
      "124     B Kumar    2013           34         191         5.62\n",
      "539     P Kumar    2013           37         214         5.78\n",
      "471  MG Johnson    2013           39         243         6.23\n",
      "488   MM Sharma    2013           36         230         6.39\n",
      "286    I Sharma    2013           38         278         7.32\n",
      "             bowler  season  total_overs  total_runs economy_rate\n",
      "125         B Kumar    2014           32         182         5.69\n",
      "244        DW Steyn    2014           28         179         6.39\n",
      "444        M Morkel    2014           32         229         7.16\n",
      "776  Sandeep Sharma    2014           30         240         8.00\n",
      "472      MG Johnson    2014           29         247         8.52\n",
      "             bowler  season  total_overs  total_runs economy_rate\n",
      "777  Sandeep Sharma    2015           36         254         7.06\n",
      "24          A Nehra    2015           42         297         7.07\n",
      "126         B Kumar    2015           28         208         7.43\n",
      "478  MJ McClenaghan    2015           25         197         7.88\n",
      "490       MM Sharma    2015           27         243         9.00\n",
      "             bowler  season  total_overs  total_runs economy_rate\n",
      "778  Sandeep Sharma    2016           27         162         6.00\n",
      "127         B Kumar    2016           36         218         6.06\n",
      "542         P Kumar    2016           38         253         6.66\n",
      "873          Z Khan    2016           28         187         6.68\n",
      "232     DS Kulkarni    2016           32         220         6.88\n"
     ]
    }
   ],
   "source": [
    "# top 5 economic bowlers in each season\n",
    "x, y = 2008, 2017\n",
    "while x < y:\n",
    "    print(bowlers[bowlers[\"season\"]==x].nlargest(5, 'total_overs').sort_values(by=[\"economy_rate\"], ascending=[True]))\n",
    "    x+=1"
   ]
  },
  {
   "cell_type": "markdown",
   "metadata": {},
   "source": [
    "As expected, these statistics are different and it can give an idea as to who is performing consistently across seasons like Praveen Kumar and Bhuvaneshwar Kumar.\n",
    "\n",
    "\n",
    "Now, let us look at the bowling in death overs, this is very crucial in a match as batsman will try to increase/acquire the target by hitting big runs in these over where they have more wickets in hand."
   ]
  },
  {
   "cell_type": "code",
   "execution_count": 28,
   "metadata": {},
   "outputs": [],
   "source": [
    "#slice data for death overs\n",
    "deathovers_deliveries = runs[runs['over'] >=16].reset_index()"
   ]
  },
  {
   "cell_type": "code",
   "execution_count": 29,
   "metadata": {},
   "outputs": [
    {
     "data": {
      "text/html": [
       "<div>\n",
       "<style scoped>\n",
       "    .dataframe tbody tr th:only-of-type {\n",
       "        vertical-align: middle;\n",
       "    }\n",
       "\n",
       "    .dataframe tbody tr th {\n",
       "        vertical-align: top;\n",
       "    }\n",
       "\n",
       "    .dataframe thead th {\n",
       "        text-align: right;\n",
       "    }\n",
       "</style>\n",
       "<table border=\"1\" class=\"dataframe\">\n",
       "  <thead>\n",
       "    <tr style=\"text-align: right;\">\n",
       "      <th></th>\n",
       "      <th>bowler</th>\n",
       "      <th>season</th>\n",
       "      <th>total_overs</th>\n",
       "      <th>total_runs</th>\n",
       "      <th>economy_rate</th>\n",
       "    </tr>\n",
       "  </thead>\n",
       "  <tbody>\n",
       "    <tr>\n",
       "      <th>0</th>\n",
       "      <td>A Ashish Reddy</td>\n",
       "      <td>2012</td>\n",
       "      <td>13</td>\n",
       "      <td>124</td>\n",
       "      <td>9.54</td>\n",
       "    </tr>\n",
       "    <tr>\n",
       "      <th>1</th>\n",
       "      <td>A Ashish Reddy</td>\n",
       "      <td>2013</td>\n",
       "      <td>2</td>\n",
       "      <td>25</td>\n",
       "      <td>12.50</td>\n",
       "    </tr>\n",
       "    <tr>\n",
       "      <th>2</th>\n",
       "      <td>A Ashish Reddy</td>\n",
       "      <td>2015</td>\n",
       "      <td>3</td>\n",
       "      <td>20</td>\n",
       "      <td>6.67</td>\n",
       "    </tr>\n",
       "    <tr>\n",
       "      <th>3</th>\n",
       "      <td>A Chandila</td>\n",
       "      <td>2013</td>\n",
       "      <td>1</td>\n",
       "      <td>6</td>\n",
       "      <td>6.00</td>\n",
       "    </tr>\n",
       "    <tr>\n",
       "      <th>4</th>\n",
       "      <td>A Choudhary</td>\n",
       "      <td>2017</td>\n",
       "      <td>4</td>\n",
       "      <td>40</td>\n",
       "      <td>10.00</td>\n",
       "    </tr>\n",
       "  </tbody>\n",
       "</table>\n",
       "</div>"
      ],
      "text/plain": [
       "           bowler  season  total_overs  total_runs economy_rate\n",
       "0  A Ashish Reddy    2012           13         124         9.54\n",
       "1  A Ashish Reddy    2013            2          25        12.50\n",
       "2  A Ashish Reddy    2015            3          20         6.67\n",
       "3      A Chandila    2013            1           6         6.00\n",
       "4     A Choudhary    2017            4          40        10.00"
      ]
     },
     "execution_count": 29,
     "metadata": {},
     "output_type": "execute_result"
    }
   ],
   "source": [
    "bowlers = deathovers_deliveries.groupby([\"bowler\", \"over\", \"match_id\",\"season\"]).sum().reset_index()\n",
    "#engineer new column showing total number of overs bowled \n",
    "bowlers[\"total_overs\"] = 1\n",
    "bowlers = bowlers[[\"bowler\", \"total_overs\", \"total_runs\",\"season\"]]\n",
    "bowlers = bowlers.groupby([\"bowler\", \"season\"]).sum().reset_index()\n",
    "#engineer new column showing the economy rate of the bowler\n",
    "bowlers[\"economy_rate\"] = bowlers.apply(lambda row: \"{:.2f}\".format(row[\"total_runs\"] / row[\"total_overs\"]), axis=1)\n",
    "bowlers.head()"
   ]
  },
  {
   "cell_type": "code",
   "execution_count": 30,
   "metadata": {},
   "outputs": [
    {
     "data": {
      "text/html": [
       "<div>\n",
       "<style scoped>\n",
       "    .dataframe tbody tr th:only-of-type {\n",
       "        vertical-align: middle;\n",
       "    }\n",
       "\n",
       "    .dataframe tbody tr th {\n",
       "        vertical-align: top;\n",
       "    }\n",
       "\n",
       "    .dataframe thead th {\n",
       "        text-align: right;\n",
       "    }\n",
       "</style>\n",
       "<table border=\"1\" class=\"dataframe\">\n",
       "  <thead>\n",
       "    <tr style=\"text-align: right;\">\n",
       "      <th></th>\n",
       "      <th>bowler</th>\n",
       "      <th>season</th>\n",
       "      <th>total_overs</th>\n",
       "      <th>total_runs</th>\n",
       "      <th>economy_rate</th>\n",
       "    </tr>\n",
       "  </thead>\n",
       "  <tbody>\n",
       "    <tr>\n",
       "      <th>127</th>\n",
       "      <td>B Kumar</td>\n",
       "      <td>2016</td>\n",
       "      <td>27</td>\n",
       "      <td>259</td>\n",
       "      <td>9.59</td>\n",
       "    </tr>\n",
       "    <tr>\n",
       "      <th>357</th>\n",
       "      <td>JJ Bumrah</td>\n",
       "      <td>2017</td>\n",
       "      <td>28</td>\n",
       "      <td>241</td>\n",
       "      <td>8.61</td>\n",
       "    </tr>\n",
       "    <tr>\n",
       "      <th>197</th>\n",
       "      <td>DJ Bravo</td>\n",
       "      <td>2015</td>\n",
       "      <td>36</td>\n",
       "      <td>303</td>\n",
       "      <td>8.42</td>\n",
       "    </tr>\n",
       "    <tr>\n",
       "      <th>368</th>\n",
       "      <td>JP Faulkner</td>\n",
       "      <td>2013</td>\n",
       "      <td>26</td>\n",
       "      <td>207</td>\n",
       "      <td>7.96</td>\n",
       "    </tr>\n",
       "    <tr>\n",
       "      <th>196</th>\n",
       "      <td>DJ Bravo</td>\n",
       "      <td>2013</td>\n",
       "      <td>37</td>\n",
       "      <td>286</td>\n",
       "      <td>7.73</td>\n",
       "    </tr>\n",
       "    <tr>\n",
       "      <th>518</th>\n",
       "      <td>Mustafizur Rahman</td>\n",
       "      <td>2016</td>\n",
       "      <td>27</td>\n",
       "      <td>208</td>\n",
       "      <td>7.70</td>\n",
       "    </tr>\n",
       "    <tr>\n",
       "      <th>736</th>\n",
       "      <td>SL Malinga</td>\n",
       "      <td>2013</td>\n",
       "      <td>27</td>\n",
       "      <td>205</td>\n",
       "      <td>7.59</td>\n",
       "    </tr>\n",
       "    <tr>\n",
       "      <th>745</th>\n",
       "      <td>SP Narine</td>\n",
       "      <td>2012</td>\n",
       "      <td>27</td>\n",
       "      <td>185</td>\n",
       "      <td>6.85</td>\n",
       "    </tr>\n",
       "    <tr>\n",
       "      <th>747</th>\n",
       "      <td>SP Narine</td>\n",
       "      <td>2014</td>\n",
       "      <td>28</td>\n",
       "      <td>189</td>\n",
       "      <td>6.75</td>\n",
       "    </tr>\n",
       "    <tr>\n",
       "      <th>198</th>\n",
       "      <td>DJ Bravo</td>\n",
       "      <td>2016</td>\n",
       "      <td>27</td>\n",
       "      <td>307</td>\n",
       "      <td>11.37</td>\n",
       "    </tr>\n",
       "  </tbody>\n",
       "</table>\n",
       "</div>"
      ],
      "text/plain": [
       "                bowler  season  total_overs  total_runs economy_rate\n",
       "127            B Kumar    2016           27         259         9.59\n",
       "357          JJ Bumrah    2017           28         241         8.61\n",
       "197           DJ Bravo    2015           36         303         8.42\n",
       "368        JP Faulkner    2013           26         207         7.96\n",
       "196           DJ Bravo    2013           37         286         7.73\n",
       "518  Mustafizur Rahman    2016           27         208         7.70\n",
       "736         SL Malinga    2013           27         205         7.59\n",
       "745          SP Narine    2012           27         185         6.85\n",
       "747          SP Narine    2014           28         189         6.75\n",
       "198           DJ Bravo    2016           27         307        11.37"
      ]
     },
     "execution_count": 30,
     "metadata": {},
     "output_type": "execute_result"
    }
   ],
   "source": [
    "#all time economic bowlers during the death overs\n",
    "bowlers.nlargest(10, 'total_overs').sort_values(by=[\"economy_rate\"], ascending=[False])"
   ]
  },
  {
   "cell_type": "markdown",
   "metadata": {},
   "source": [
    "One might expect a bowler who does well in first 6 overs to do well in death overs. Interestingly that is not the case except for Bhuvaneshwar Kumar. We have a totally different set of bowlers here like Malinga, Bumrah and Bravo.\n",
    "Let us see how they have fared across each season."
   ]
  },
  {
   "cell_type": "code",
   "execution_count": 31,
   "metadata": {},
   "outputs": [
    {
     "name": "stdout",
     "output_type": "stream",
     "text": [
      "            bowler  season  total_overs  total_runs economy_rate\n",
      "419       L Balaji    2008           15         150        10.00\n",
      "658       RP Singh    2008           17         176        10.35\n",
      "790  Sohail Tanvir    2008           18         122         6.78\n",
      "835      VRV Singh    2008           15         133         8.87\n",
      "323      JA Morkel    2008           15         141         9.40\n",
      "         bowler  season  total_overs  total_runs economy_rate\n",
      "732  SL Malinga    2009           22         135         6.14\n",
      "659    RP Singh    2009           22         163         7.41\n",
      "25      A Nehra    2009           18         135         7.50\n",
      "294   IK Pathan    2009           23         195         8.48\n",
      "214   DP Nannes    2009           17         147         8.65\n",
      "            bowler  season  total_overs  total_runs economy_rate\n",
      "626  R Vinay Kumar    2010           16         165        10.31\n",
      "295      IK Pathan    2010           16         170        10.62\n",
      "733     SL Malinga    2010           19         135         7.11\n",
      "243       DW Steyn    2010           15         115         7.67\n",
      "876         Z Khan    2010           16         139         8.69\n",
      "           bowler  season  total_overs  total_runs economy_rate\n",
      "734    SL Malinga    2011           24         156         6.50\n",
      "189  DE Bollinger    2011           22         144         6.55\n",
      "133         B Lee    2011           19         158         8.32\n",
      "877        Z Khan    2011           20         174         8.70\n",
      "653     RJ Harris    2011           19         172         9.05\n",
      "            bowler  season  total_overs  total_runs economy_rate\n",
      "628  R Vinay Kumar    2012           23         249        10.83\n",
      "745      SP Narine    2012           27         185         6.85\n",
      "735     SL Malinga    2012           25         185         7.40\n",
      "446       M Morkel    2012           24         193         8.04\n",
      "814       UT Yadav    2012           23         200         8.70\n",
      "          bowler  season  total_overs  total_runs economy_rate\n",
      "746    SP Narine    2013           25         167         6.68\n",
      "736   SL Malinga    2013           27         205         7.59\n",
      "196     DJ Bravo    2013           37         286         7.73\n",
      "368  JP Faulkner    2013           26         207         7.96\n",
      "398    KK Cooper    2013           26         240         9.23\n",
      "         bowler  season  total_overs  total_runs economy_rate\n",
      "494   MM Sharma    2014           21         215        10.24\n",
      "747   SP Narine    2014           28         189         6.75\n",
      "125     B Kumar    2014           19         146         7.68\n",
      "475  MG Johnson    2014           19         155         8.16\n",
      "462    MA Starc    2014           21         186         8.86\n",
      "            bowler  season  total_overs  total_runs economy_rate\n",
      "114  Anureet Singh    2015           20         219        10.95\n",
      "197       DJ Bravo    2015           36         303         8.42\n",
      "738     SL Malinga    2015           25         218         8.72\n",
      "126        B Kumar    2015           20         188         9.40\n",
      "166      CH Morris    2015           17         163         9.59\n",
      "                bowler  season  total_overs  total_runs economy_rate\n",
      "760          SR Watson    2016           23         247        10.74\n",
      "198           DJ Bravo    2016           27         307        11.37\n",
      "518  Mustafizur Rahman    2016           27         208         7.70\n",
      "356          JJ Bumrah    2016           23         220         9.57\n",
      "127            B Kumar    2016           27         259         9.59\n"
     ]
    }
   ],
   "source": [
    "#economic bowlers during the death over in each season\n",
    "x, y = 2008, 2017\n",
    "while x < y:\n",
    "    print(bowlers[bowlers[\"season\"]==x].nlargest(5, 'total_overs').sort_values(by=[\"economy_rate\"], ascending=[True]))\n",
    "    x+=1"
   ]
  },
  {
   "cell_type": "markdown",
   "metadata": {},
   "source": [
    "Few bowlers like Malinga, Bravo, B Kumar are consistent across all seasons. These players must be star bowlers and will definitely go under a high rate in auctions."
   ]
  },
  {
   "cell_type": "markdown",
   "metadata": {},
   "source": [
    "## Future Scope"
   ]
  },
  {
   "cell_type": "markdown",
   "metadata": {},
   "source": [
    "Cricket is an interesting sport where we saw a number of factors that can affect a game's outcome. There are a lot more like this.\n",
    "\n",
    "Just with the deliveries data, there are so many insights we can achieve. With more data, like the auction data, we can decide which teams can do better with which players. \n",
    "\n",
    "We can also predict information such as the win probability each over and it can be useful for betting industries."
   ]
  },
  {
   "cell_type": "code",
   "execution_count": null,
   "metadata": {},
   "outputs": [],
   "source": []
  }
 ],
 "metadata": {
  "kernelspec": {
   "display_name": "Python 3",
   "language": "python",
   "name": "python3"
  },
  "language_info": {
   "codemirror_mode": {
    "name": "ipython",
    "version": 3
   },
   "file_extension": ".py",
   "mimetype": "text/x-python",
   "name": "python",
   "nbconvert_exporter": "python",
   "pygments_lexer": "ipython3",
   "version": "3.7.1"
  }
 },
 "nbformat": 4,
 "nbformat_minor": 2
}
